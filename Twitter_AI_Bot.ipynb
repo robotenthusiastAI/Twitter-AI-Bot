{
  "nbformat": 4,
  "nbformat_minor": 0,
  "metadata": {
    "colab": {
      "provenance": []
    },
    "kernelspec": {
      "name": "python3",
      "display_name": "Python 3"
    },
    "language_info": {
      "name": "python"
    }
  },
  "cells": [
    {
      "cell_type": "markdown",
      "source": [
        "**ANTI-DISCONNECT SCRIPT**\n",
        "This allows you to keep your script running without it disconnecting for a while."
      ],
      "metadata": {
        "id": "fE8w2ge6OMQD"
      }
    },
    {
      "cell_type": "code",
      "source": [
        "#@title Keep this tab alive to prevent Colab from disconnecting you { display-mode: \"form\" }\n",
        "\n",
        "#@markdown Press play on the music player that will appear below:\n",
        "%%html\n",
        "<audio src=\"https://oobabooga.github.io/silence.m4a\" controls>"
      ],
      "metadata": {
        "id": "sPDFeg1uOZYv"
      },
      "execution_count": null,
      "outputs": []
    },
    {
      "cell_type": "markdown",
      "source": [
        "**Step 1:** Run this to install the required Python modules for the script to function."
      ],
      "metadata": {
        "id": "W5F9bcO-pxcg"
      }
    },
    {
      "cell_type": "code",
      "source": [
        "!pip install tweepy\n",
        "!pip install poe-api"
      ],
      "metadata": {
        "id": "R10RtzfVOQz8"
      },
      "execution_count": null,
      "outputs": []
    },
    {
      "cell_type": "markdown",
      "source": [
        "**Step 2:** Add your keys into their respective spots.\n",
        "\n",
        "                                                \n",
        "                                                 \n",
        "                                                  \n",
        "                                                   \n",
        "                                                    \n",
        "                                                     \n",
        "                                                       INSIDE THE SINGLE QUOTES\n",
        "\n",
        "\n",
        "The actual script that I need to run in order for the bot to work. Make sure to not share any of your keys or your version of the script.\n",
        "\n",
        "After the keys are added, you are good to run this.\n",
        "\n",
        "**Twitter Bot:**\n"
      ],
      "metadata": {
        "id": "pex82gusp5Wj"
      }
    },
    {
      "cell_type": "code",
      "source": [
        "import os\n",
        "\n",
        "os.environ['API_KEY'] = 'Twitter API Key here'\n",
        "os.environ['API_SECRET'] = 'Twitter Secret Key here'\n",
        "os.environ['ACCESS_TOKEN'] = 'Twitter Access Token here'\n",
        "os.environ['ACCESS_TOKEN_SECRET'] = 'Twitter Secret Access Token here'\n",
        "os.environ['POE_TOKEN'] = 'Insert Poe Token Here'\n",
        "\n",
        "print(os.environ)\n",
        "# or\n",
        "print(os.environ['POE_TOKEN'])"
      ],
      "metadata": {
        "id": "yFSOXgTg7gKr"
      },
      "execution_count": null,
      "outputs": []
    },
    {
      "cell_type": "markdown",
      "source": [
        "**Step 4:** Custom prompt for your AI\n",
        "  (Don't forget about Twitter character limits)\n",
        "\n",
        "You will modify only 1 thing of this script (2 if you are more confident)\n",
        "\n",
        "*   Replace the \"message\" with what you want your AI\n",
        "to make. Don't forget that there is a limited amount of text that you can put into a Twitter post.\n",
        "\n",
        "*   If you're feeling confident, you can change the AI bot to whichever you prefer.\n",
        "  - The code block directly below this one will use the API from Poe to tell you what bots are available to you. You can add more to your account at Poe.com\n",
        "\n"
      ],
      "metadata": {
        "id": "4Mga43MGmvAq"
      }
    },
    {
      "cell_type": "code",
      "source": [
        "# This script will tell you what bots are available in the output\n",
        "\n",
        "import os\n",
        "import poe\n",
        "import json\n",
        "\n",
        "# Initialize the Poe API client\n",
        "poe_client = poe.Client(os.environ['POE_TOKEN'])\n",
        "print(json.dumps(poe_client.bot_names, indent=2))"
      ],
      "metadata": {
        "id": "3v0HN_g566QE"
      },
      "execution_count": null,
      "outputs": []
    },
    {
      "cell_type": "markdown",
      "source": [
        "**Step 4 (CONTINUED):** Here is where you will find the bot_codename and message.\n",
        "\n",
        "- bot_codename will change the AI bot you use\n",
        "- message will change the prompt you send to the AI\n",
        "\n",
        "After you change those (AND ONLY THOSE), you are good to run them."
      ],
      "metadata": {
        "id": "1KgrfF-c7JLy"
      }
    },
    {
      "cell_type": "code",
      "source": [
        "import tweepy\n",
        "import poe\n",
        "from tweepy import OAuthHandler\n",
        "\n",
        "# Set up Twitter API authentication\n",
        "client = tweepy.Client(consumer_key=os.environ['API_KEY'],\n",
        "                       consumer_secret=os.environ['API_SECRET'],\n",
        "                       access_token=os.environ['ACCESS_TOKEN'],\n",
        "                       access_token_secret=os.environ['ACCESS_TOKEN_SECRET'])\n",
        "\n",
        "# Initialize the Poe API client\n",
        "poe_client = poe.Client(os.environ['POE_TOKEN'])\n",
        "\n",
        "# Customize this function to send a message to the Poe AI and retrieve a response\n",
        "def generate_ai_response():\n",
        "  ##############################################################################\n",
        "\n",
        "   # Here is what you will change\n",
        "\n",
        "    bot_codename = \"chinchilla\"  # Replace this with the desired AI bot\n",
        "    message = (\"Make a joke as the character Yoda in a complete sentence. \"\n",
        "               \"The joke should be 1 or 2 short sentences, but make sure it's a full joke.\")\n",
        "   # You can replace the message with the prompt for the AI (inside the quotes and parentheses)\n",
        "\n",
        "  ##############################################################################\n",
        "    response_generator = poe_client.send_message(bot_codename, message)\n",
        "\n",
        "    full_response = \"\"\n",
        "    try:\n",
        "        for response in response_generator:\n",
        "            if 'text' in response:\n",
        "                full_response = response['text']  # Replace the full_response with the latest response\n",
        "            else:\n",
        "                print(f\"Unexpected response: {response}\")  # Print any unexpected responses from the AI\n",
        "    except KeyError as e:\n",
        "        print(f\"KeyError: {e}\")\n",
        "        return \"Error occurred while generating AI response\"\n",
        "    except Exception as e:\n",
        "        print(f\"Error: {e}\")\n",
        "        return \"Error occurred while generating AI response\"\n",
        "\n",
        "    return full_response\n",
        "\n",
        "# Generate the AI response and post it as a tweet\n",
        "ai_response = generate_ai_response()\n",
        "print(f\"AI-generated response: {ai_response}\")  # Print the AI-generated response before posting the tweet\n",
        "\n",
        "tweet = client.create_tweet(text=ai_response)"
      ],
      "metadata": {
        "id": "qXfI-pdlikQ6"
      },
      "execution_count": null,
      "outputs": []
    },
    {
      "cell_type": "markdown",
      "source": [
        "Now check your Twitter account that you set up to be automated and the Tweet should be there.\n",
        "\n",
        "If you want a log of previous generated Tweets, it is right on your Poe account (Poe.com)"
      ],
      "metadata": {
        "id": "Krh5Ta8l7vX1"
      }
    }
  ]
}